{
 "cells": [
  {
   "cell_type": "code",
   "execution_count": 2,
   "metadata": {},
   "outputs": [],
   "source": [
    "import os\n",
    "from pathlib import Path\n",
    "from mlAusCar.constants import *\n",
    "from mlAusCar.utils.common import read_yaml, create_dirs\n",
    "from dataclasses import dataclass\n",
    "import os\n",
    "import numpy as np\n",
    "import pandas as pd\n",
    "import seaborn as sns\n",
    "import matplotlib.pyplot as plt\n",
    "from sklearn.compose import make_column_transformer, make_column_selector\n",
    "from sklearn.preprocessing import OneHotEncoder, StandardScaler\n",
    "from sklearn.model_selection import train_test_split\n",
    "from sklearn.pipeline import make_pipeline, FunctionTransformer\n",
    "pd.set_option('display.max_columns', 5000)\n",
    "sns.set_style('dark')"
   ]
  },
  {
   "cell_type": "code",
   "execution_count": 3,
   "metadata": {},
   "outputs": [
    {
     "data": {
      "text/plain": [
       "'d:\\\\My DL Workstation\\\\Projects\\\\Australian Vehicle Prices\\\\research'"
      ]
     },
     "execution_count": 3,
     "metadata": {},
     "output_type": "execute_result"
    }
   ],
   "source": [
    "%pwd"
   ]
  },
  {
   "cell_type": "code",
   "execution_count": 4,
   "metadata": {},
   "outputs": [
    {
     "data": {
      "text/plain": [
       "'d:\\\\My DL Workstation\\\\Projects\\\\Australian Vehicle Prices'"
      ]
     },
     "execution_count": 4,
     "metadata": {},
     "output_type": "execute_result"
    }
   ],
   "source": [
    "os.chdir('../')\n",
    "%pwd"
   ]
  },
  {
   "cell_type": "markdown",
   "metadata": {},
   "source": [
    "# Data Modeling:"
   ]
  },
  {
   "cell_type": "code",
   "execution_count": 17,
   "metadata": {},
   "outputs": [],
   "source": [
    "csv_path = './artifacts/data_ingestion/Australian Vehicle Prices.csv'\n",
    "df = pd.read_csv(csv_path)"
   ]
  },
  {
   "cell_type": "code",
   "execution_count": null,
   "metadata": {},
   "outputs": [],
   "source": [
    "numeric_cols = ['Year', 'Kilometres', 'Price', 'Engine', 'FuelConsumption', 'CylindersinEngine', 'Doors', 'Seats']"
   ]
  },
  {
   "cell_type": "code",
   "execution_count": null,
   "metadata": {},
   "outputs": [
    {
     "data": {
      "text/plain": [
       "Year                       -0.992202\n",
       "Engine Displacement(L)      1.461935\n",
       "FuelConsumption(L)/100km    0.649182\n",
       "Kilometers                  0.922053\n",
       "CylindersinEngine           1.591460\n",
       "Doors                      -1.359564\n",
       "Seats                       0.395330\n",
       "Price                       5.595892\n",
       "dtype: float64"
      ]
     },
     "metadata": {},
     "output_type": "display_data"
    }
   ],
   "source": [
    "# dealing with data skew\n",
    "df[numeric_cols].skew()"
   ]
  },
  {
   "cell_type": "code",
   "execution_count": null,
   "metadata": {},
   "outputs": [
    {
     "data": {
      "image/png": "[encoded data removed]",
      "text/plain": [
       "<Figure size 800x300 with 2 Axes>"
      ]
     },
     "metadata": {},
     "output_type": "display_data"
    }
   ],
   "source": [
    "# High price skew, transforming to fit a Gaussian distribution\n",
    "fig, axs = plt.subplots(1, 2, figsize=(8, 3), sharey=True)\n",
    "df[\"Price\"].hist(ax=axs[0], bins=50)\n",
    "df[\"Price\"].apply(np.log).hist(ax=axs[1], bins=50)\n",
    "axs[0].set_xlabel(\"Price\")\n",
    "axs[1].set_xlabel(\"Log of Price\")\n",
    "axs[0].set_ylabel(\"Number of cars\")\n",
    "plt.show()"
   ]
  },
  {
   "cell_type": "code",
   "execution_count": null,
   "metadata": {},
   "outputs": [],
   "source": [
    "# Apparently, we would benifit indeed from logging the price\n",
    "df['Price'] = df[\"Price\"].apply(np.log)"
   ]
  },
  {
   "cell_type": "code",
   "execution_count": null,
   "metadata": {},
   "outputs": [],
   "source": [
    "# splitting into train-test sets\n",
    "X = df.drop(columns = ['Price'], axis =1)\n",
    "y = df['Price']\n",
    "X_train, X_test, y_train, y_test = train_test_split(X, y, test_size = 0.2, random_state = 42)"
   ]
  },
  {
   "cell_type": "code",
   "execution_count": null,
   "metadata": {},
   "outputs": [],
   "source": [
    "# Transformation pipelines\n",
    "log_pipeline = make_pipeline(\n",
    "    FunctionTransformer(func=np.log, feature_names_out='one-to-one'),\n",
    "    StandardScaler()\n",
    ")\n",
    "\n",
    "cat_pipeline = make_pipeline(\n",
    "    OneHotEncoder(handle_unknown='ignore')\n",
    ")\n",
    "\n",
    "num_pipeline = make_pipeline(\n",
    "    StandardScaler()\n",
    ")\n",
    "\n",
    "preprocessing = make_column_transformer(\n",
    "    (num_pipeline, make_column_selector(dtype_include=np.number)),\n",
    "    (cat_pipeline, make_column_selector(dtype_include=object))\n",
    ")"
   ]
  },
  {
   "cell_type": "markdown",
   "metadata": {},
   "source": [
    "# Modules"
   ]
  },
  {
   "cell_type": "code",
   "execution_count": 5,
   "metadata": {},
   "outputs": [],
   "source": [
    "# Update entity\n",
    "@dataclass(frozen=True)\n",
    "class DataTransformationConfig:\n",
    "    root_dir: Path\n",
    "    csv_path: Path"
   ]
  },
  {
   "cell_type": "code",
   "execution_count": 6,
   "metadata": {},
   "outputs": [],
   "source": [
    "# Update config manager\n",
    "class ConfigurationManager:\n",
    "    def __init__(self,\n",
    "                    config=CONFIG_FILE_PATH,\n",
    "                    params=PARAMS_FILE_PATH,\n",
    "                    schema=SCHEMA_FILE_PATH):\n",
    "        \n",
    "        self.config= read_yaml(config)\n",
    "        self.params= read_yaml(params)\n",
    "        self.schema= read_yaml(schema)\n",
    "        \n",
    "        create_dirs(self.config.artifacts_root)\n",
    "        \n",
    "    def get_data_transformation_config(self) -> DataTransformationConfig:\n",
    "        create_dirs(self.config.data_transformation.root_dir)\n",
    "        \n",
    "        data_config= DataTransformationConfig(\n",
    "            root_dir= self.config.data_transformation.root_dir,\n",
    "            csv_path= self.config.data_transformation.csv_path\n",
    "        )\n",
    "        \n",
    "        return data_config"
   ]
  },
  {
   "cell_type": "code",
   "execution_count": 7,
   "metadata": {},
   "outputs": [],
   "source": [
    "# Update component\n",
    "class DataTransformation:\n",
    "    def __init__(self,\n",
    "                    config: DataTransformationConfig):\n",
    "        self.config = config\n",
    "    \n",
    "    def transform_data(self):    \n",
    "        \n",
    "        # Loading the data:\n",
    "        csv_path = self.config.csv_path\n",
    "        df = pd.read_csv(csv_path)\n",
    "\n",
    "        # Most of the missing values aren't within columns we care about or are few. Safe to drop them\n",
    "        df.dropna(inplace=True)\n",
    "\n",
    "        # Location extraction by state to reduce the number of features\n",
    "        df['State'] = df['Location'].str.extract(r'\\, (\\w+\\-?\\w+)')\n",
    "\n",
    "        # Dropping unnecessary columns\n",
    "        df.drop(columns=['Brand', 'Car/Suv', 'Title', 'ColourExtInt', 'Location'], axis=1, inplace=True)\n",
    "\n",
    "        # Extracting fuel consumption number of liters per 100 km\n",
    "        df['FuelConsumption'] = df['FuelConsumption'].str.extract(r'(\\d+\\.?\\d*) L.*')\n",
    "\n",
    "        # Extracting engine displacement in L\n",
    "        df['Engine'] = df['Engine'].str.extract(r'(\\d+\\.?\\d*) L.*')\n",
    "\n",
    "        # Extracting cylinder count\n",
    "        df['CylindersinEngine'] = df['CylindersinEngine'].str.extract(r'(\\d+) \\w+.*')\n",
    "\n",
    "        # Extracting number of doors\n",
    "        df['Doors'] = df['Doors'].str.extract(r'(\\d+) Doors')\n",
    "\n",
    "        # Extracting number of seats\n",
    "        df['Seats'] = df['Seats'].str.extract(r'(\\d+) Seats')\n",
    "\n",
    "        # detecting non-numeric values  in the numeric columns\n",
    "        numeric_cols = ['Year', 'Kilometres', 'Price', 'Engine', 'FuelConsumption', 'CylindersinEngine', 'Doors', 'Seats']\n",
    "        for column in numeric_cols:\n",
    "            nan = {}\n",
    "            for i, price in zip(df.index, df[column]):\n",
    "                \n",
    "                try:\n",
    "                    float(price)\n",
    "                    \n",
    "                except:\n",
    "                    nan[i] = price \n",
    "                    \n",
    "            # removing non-numeric rows\n",
    "            df.drop(list(nan.keys()), inplace=True)\n",
    "\n",
    "        # Detecting missing data in the object columns\n",
    "        categorical_columns = df.select_dtypes(include='object').columns\n",
    "\n",
    "        missing = ['-', '0']\n",
    "        for column in categorical_columns:\n",
    "            nan = {}\n",
    "            for i, val in zip(df.index, df[column]):\n",
    "                # Sometimes the values are 0 for electric cars in FuelConsumption, we keep those\n",
    "                if not ((df['FuelType'][i] == 'Electric') & (val == '0')):\n",
    "                    if val in missing:\n",
    "                        nan[i] = val\n",
    "                    \n",
    "            # Removing object columns\n",
    "            df.drop(list(nan.keys()), inplace=True)\n",
    "\n",
    "        # type conversion\n",
    "        for col in numeric_cols:\n",
    "            try:\n",
    "                df[col] = df[col].astype(int)\n",
    "            except:\n",
    "                df[col] = df[col].astype(float)\n",
    "                \n",
    "        # renaming\n",
    "        df.rename(columns={'Kilometres': 'Kilometers',\n",
    "                        'Engine': 'Engine Displacement(L)',\n",
    "                        'FuelConsumption': 'FuelConsumption(L)/100km'}, inplace=True)\n",
    "\n",
    "        # Reselecting\n",
    "        numeric_cols = df.select_dtypes(exclude='object').columns\n",
    "        categorical_columns = df.select_dtypes(include='object').columns\n",
    "\n",
    "        # Data Modeling:\n",
    "\n",
    "        # Apparently, we would benefit indeed from logging the price\n",
    "        df['Price'] = df[\"Price\"].apply(np.log)\n",
    "\n",
    "        # splitting into train-test sets\n",
    "        X = df.drop(columns = ['Price'], axis =1)\n",
    "        y = df['Price']\n",
    "\n",
    "        X_train, X_test, y_train, y_test = train_test_split(X, y, test_size = 0.2, random_state = 42)\n",
    "\n",
    "        # Transformation pipelines\n",
    "        log_pipeline = make_pipeline(\n",
    "            FunctionTransformer(func=np.log, feature_names_out='one-to-one'),\n",
    "            StandardScaler()\n",
    "        )\n",
    "\n",
    "        cat_pipeline = make_pipeline(\n",
    "            OneHotEncoder(handle_unknown='ignore')\n",
    "        )\n",
    "\n",
    "        num_pipeline = make_pipeline(\n",
    "            StandardScaler()\n",
    "        )\n",
    "\n",
    "        preprocessing = make_column_transformer(\n",
    "            (num_pipeline, make_column_selector(dtype_include=np.number)),\n",
    "            (cat_pipeline, make_column_selector(dtype_include=object))\n",
    "        )\n",
    "\n",
    "        return X_train, y_train, X_test, y_test, log_pipeline, preprocessing"
   ]
  },
  {
   "cell_type": "code",
   "execution_count": 8,
   "metadata": {},
   "outputs": [
    {
     "name": "stdout",
     "output_type": "stream",
     "text": [
      "[2023-12-25 20:40:23,418]: INFO: common: .yaml from config\\config.yaml has been loaded.\n",
      "[2023-12-25 20:40:23,419]: INFO: common: .yaml from params.yaml has been loaded.\n",
      "[2023-12-25 20:40:23,422]: INFO: common: .yaml from schema.yaml has been loaded.\n"
     ]
    }
   ],
   "source": [
    "# Update pipeline\n",
    "try:\n",
    "    config = ConfigurationManager()\n",
    "    data_transformation_config= config.get_data_transformation_config()\n",
    "    data_transformation= DataTransformation(data_transformation_config)\n",
    "    X_train, y_train, X_test, y_test, log_pipeline, preprocessing =data_transformation.transform_data()\n",
    "    \n",
    "except Exception as e:\n",
    "    raise e"
   ]
  }
 ],
 "metadata": {
  "kernelspec": {
   "display_name": "auscar",
   "language": "python",
   "name": "python3"
  },
  "language_info": {
   "codemirror_mode": {
    "name": "ipython",
    "version": 3
   },
   "file_extension": ".py",
   "mimetype": "text/x-python",
   "name": "python",
   "nbconvert_exporter": "python",
   "pygments_lexer": "ipython3",
   "version": "3.12.0"
  }
 },
 "nbformat": 4,
 "nbformat_minor": 2
}

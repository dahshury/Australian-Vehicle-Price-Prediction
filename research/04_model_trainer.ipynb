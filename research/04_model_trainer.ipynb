{
 "cells": [
  {
   "cell_type": "code",
   "execution_count": 6,
   "metadata": {},
   "outputs": [],
   "source": [
    "import os\n",
    "import numpy as np\n",
    "import xgboost as xb\n",
    "from sklearn.linear_model import LinearRegression\n",
    "from sklearn.tree import DecisionTreeRegressor\n",
    "from sklearn.ensemble import RandomForestRegressor, GradientBoostingRegressor, AdaBoostRegressor\n",
    "from sklearn.metrics import mean_squared_error, r2_score, mean_absolute_error\n",
    "from sklearn.model_selection import cross_val_score, GridSearchCV\n",
    "from sklearn.pipeline import make_pipeline\n",
    "from pathlib import Path\n",
    "from dataclasses import dataclass\n",
    "from mlAusCar.config.configuartion import ConfigurationManager\n",
    "from mlAusCar.constants import *\n",
    "import joblib\n",
    "from mlAusCar import custom_logger\n",
    "from urllib.parse import urlparse\n",
    "import mlflow\n",
    "import mlflow.sklearn\n",
    "from mlAusCar.utils.common import read_yaml, create_dirs, save_json\n",
    "from mlAusCar.components.data_transformation import DataTransformation\n",
    "from mlAusCar.pipeline.stage_03_data_transformation import DataTransformationTrainingPipeline"
   ]
  },
  {
   "cell_type": "code",
   "execution_count": 7,
   "metadata": {},
   "outputs": [
    {
     "data": {
      "text/plain": [
       "'d:\\\\My DL Workstation\\\\Projects\\\\Australian Vehicle Prices\\\\research'"
      ]
     },
     "execution_count": 7,
     "metadata": {},
     "output_type": "execute_result"
    }
   ],
   "source": [
    "%pwd"
   ]
  },
  {
   "cell_type": "code",
   "execution_count": 8,
   "metadata": {},
   "outputs": [
    {
     "data": {
      "text/plain": [
       "'d:\\\\My DL Workstation\\\\Projects\\\\Australian Vehicle Prices'"
      ]
     },
     "execution_count": 8,
     "metadata": {},
     "output_type": "execute_result"
    }
   ],
   "source": [
    "os.chdir('../')\n",
    "%pwd"
   ]
  },
  {
   "cell_type": "code",
   "execution_count": 10,
   "metadata": {},
   "outputs": [
    {
     "name": "stdout",
     "output_type": "stream",
     "text": [
      "[2023-12-25 21:20:47,613]: INFO: common: .yaml from config\\config.yaml has been loaded.\n",
      "[2023-12-25 21:20:47,614]: INFO: common: .yaml from params.yaml has been loaded.\n",
      "[2023-12-25 21:20:47,616]: INFO: common: .yaml from schema.yaml has been loaded.\n"
     ]
    }
   ],
   "source": [
    "transformation_config = ConfigurationManager().get_data_transformation_config()\n",
    "data_transformation = DataTransformation(transformation_config)\n",
    "X_train, y_train, X_test, y_test, log_pipeline, preprocessing = data_transformation.transform_data()"
   ]
  },
  {
   "cell_type": "markdown",
   "metadata": {},
   "source": [
    "# Modeling:"
   ]
  },
  {
   "cell_type": "code",
   "execution_count": 11,
   "metadata": {},
   "outputs": [
    {
     "data": {
      "text/html": [
       "<style>#sk-container-id-1 {color: black;}#sk-container-id-1 pre{padding: 0;}#sk-container-id-1 div.sk-toggleable {background-color: white;}#sk-container-id-1 label.sk-toggleable__label {cursor: pointer;display: block;width: 100%;margin-bottom: 0;padding: 0.3em;box-sizing: border-box;text-align: center;}#sk-container-id-1 label.sk-toggleable__label-arrow:before {content: \"▸\";float: left;margin-right: 0.25em;color: #696969;}#sk-container-id-1 label.sk-toggleable__label-arrow:hover:before {color: black;}#sk-container-id-1 div.sk-estimator:hover label.sk-toggleable__label-arrow:before {color: black;}#sk-container-id-1 div.sk-toggleable__content {max-height: 0;max-width: 0;overflow: hidden;text-align: left;background-color: #f0f8ff;}#sk-container-id-1 div.sk-toggleable__content pre {margin: 0.2em;color: black;border-radius: 0.25em;background-color: #f0f8ff;}#sk-container-id-1 input.sk-toggleable__control:checked~div.sk-toggleable__content {max-height: 200px;max-width: 100%;overflow: auto;}#sk-container-id-1 input.sk-toggleable__control:checked~label.sk-toggleable__label-arrow:before {content: \"▾\";}#sk-container-id-1 div.sk-estimator input.sk-toggleable__control:checked~label.sk-toggleable__label {background-color: #d4ebff;}#sk-container-id-1 div.sk-label input.sk-toggleable__control:checked~label.sk-toggleable__label {background-color: #d4ebff;}#sk-container-id-1 input.sk-hidden--visually {border: 0;clip: rect(1px 1px 1px 1px);clip: rect(1px, 1px, 1px, 1px);height: 1px;margin: -1px;overflow: hidden;padding: 0;position: absolute;width: 1px;}#sk-container-id-1 div.sk-estimator {font-family: monospace;background-color: #f0f8ff;border: 1px dotted black;border-radius: 0.25em;box-sizing: border-box;margin-bottom: 0.5em;}#sk-container-id-1 div.sk-estimator:hover {background-color: #d4ebff;}#sk-container-id-1 div.sk-parallel-item::after {content: \"\";width: 100%;border-bottom: 1px solid gray;flex-grow: 1;}#sk-container-id-1 div.sk-label:hover label.sk-toggleable__label {background-color: #d4ebff;}#sk-container-id-1 div.sk-serial::before {content: \"\";position: absolute;border-left: 1px solid gray;box-sizing: border-box;top: 0;bottom: 0;left: 50%;z-index: 0;}#sk-container-id-1 div.sk-serial {display: flex;flex-direction: column;align-items: center;background-color: white;padding-right: 0.2em;padding-left: 0.2em;position: relative;}#sk-container-id-1 div.sk-item {position: relative;z-index: 1;}#sk-container-id-1 div.sk-parallel {display: flex;align-items: stretch;justify-content: center;background-color: white;position: relative;}#sk-container-id-1 div.sk-item::before, #sk-container-id-1 div.sk-parallel-item::before {content: \"\";position: absolute;border-left: 1px solid gray;box-sizing: border-box;top: 0;bottom: 0;left: 50%;z-index: -1;}#sk-container-id-1 div.sk-parallel-item {display: flex;flex-direction: column;z-index: 1;position: relative;background-color: white;}#sk-container-id-1 div.sk-parallel-item:first-child::after {align-self: flex-end;width: 50%;}#sk-container-id-1 div.sk-parallel-item:last-child::after {align-self: flex-start;width: 50%;}#sk-container-id-1 div.sk-parallel-item:only-child::after {width: 0;}#sk-container-id-1 div.sk-dashed-wrapped {border: 1px dashed gray;margin: 0 0.4em 0.5em 0.4em;box-sizing: border-box;padding-bottom: 0.4em;background-color: white;}#sk-container-id-1 div.sk-label label {font-family: monospace;font-weight: bold;display: inline-block;line-height: 1.2em;}#sk-container-id-1 div.sk-label-container {text-align: center;}#sk-container-id-1 div.sk-container {/* jupyter's `normalize.less` sets `[hidden] { display: none; }` but bootstrap.min.css set `[hidden] { display: none !important; }` so we also need the `!important` here to be able to override the default hidden behavior on the sphinx rendered scikit-learn.org. See: https://github.com/scikit-learn/scikit-learn/issues/21755 */display: inline-block !important;position: relative;}#sk-container-id-1 div.sk-text-repr-fallback {display: none;}</style><div id=\"sk-container-id-1\" class=\"sk-top-container\"><div class=\"sk-text-repr-fallback\"><pre>Pipeline(steps=[(&#x27;columntransformer&#x27;,\n",
       "                 ColumnTransformer(transformers=[(&#x27;pipeline-1&#x27;,\n",
       "                                                  Pipeline(steps=[(&#x27;standardscaler&#x27;,\n",
       "                                                                   StandardScaler())]),\n",
       "                                                  &lt;sklearn.compose._column_transformer.make_column_selector object at 0x0000027519000800&gt;),\n",
       "                                                 (&#x27;pipeline-2&#x27;,\n",
       "                                                  Pipeline(steps=[(&#x27;onehotencoder&#x27;,\n",
       "                                                                   OneHotEncoder(handle_unknown=&#x27;ignore&#x27;))]),\n",
       "                                                  &lt;sklearn.compose._column_transformer.make_column_selector object at 0x00000275179D7350&gt;)])),\n",
       "                (&#x27;linearregression&#x27;, LinearRegression())])</pre><b>In a Jupyter environment, please rerun this cell to show the HTML representation or trust the notebook. <br />On GitHub, the HTML representation is unable to render, please try loading this page with nbviewer.org.</b></div><div class=\"sk-container\" hidden><div class=\"sk-item sk-dashed-wrapped\"><div class=\"sk-label-container\"><div class=\"sk-label sk-toggleable\"><input class=\"sk-toggleable__control sk-hidden--visually\" id=\"sk-estimator-id-1\" type=\"checkbox\" ><label for=\"sk-estimator-id-1\" class=\"sk-toggleable__label sk-toggleable__label-arrow\">Pipeline</label><div class=\"sk-toggleable__content\"><pre>Pipeline(steps=[(&#x27;columntransformer&#x27;,\n",
       "                 ColumnTransformer(transformers=[(&#x27;pipeline-1&#x27;,\n",
       "                                                  Pipeline(steps=[(&#x27;standardscaler&#x27;,\n",
       "                                                                   StandardScaler())]),\n",
       "                                                  &lt;sklearn.compose._column_transformer.make_column_selector object at 0x0000027519000800&gt;),\n",
       "                                                 (&#x27;pipeline-2&#x27;,\n",
       "                                                  Pipeline(steps=[(&#x27;onehotencoder&#x27;,\n",
       "                                                                   OneHotEncoder(handle_unknown=&#x27;ignore&#x27;))]),\n",
       "                                                  &lt;sklearn.compose._column_transformer.make_column_selector object at 0x00000275179D7350&gt;)])),\n",
       "                (&#x27;linearregression&#x27;, LinearRegression())])</pre></div></div></div><div class=\"sk-serial\"><div class=\"sk-item sk-dashed-wrapped\"><div class=\"sk-label-container\"><div class=\"sk-label sk-toggleable\"><input class=\"sk-toggleable__control sk-hidden--visually\" id=\"sk-estimator-id-2\" type=\"checkbox\" ><label for=\"sk-estimator-id-2\" class=\"sk-toggleable__label sk-toggleable__label-arrow\">columntransformer: ColumnTransformer</label><div class=\"sk-toggleable__content\"><pre>ColumnTransformer(transformers=[(&#x27;pipeline-1&#x27;,\n",
       "                                 Pipeline(steps=[(&#x27;standardscaler&#x27;,\n",
       "                                                  StandardScaler())]),\n",
       "                                 &lt;sklearn.compose._column_transformer.make_column_selector object at 0x0000027519000800&gt;),\n",
       "                                (&#x27;pipeline-2&#x27;,\n",
       "                                 Pipeline(steps=[(&#x27;onehotencoder&#x27;,\n",
       "                                                  OneHotEncoder(handle_unknown=&#x27;ignore&#x27;))]),\n",
       "                                 &lt;sklearn.compose._column_transformer.make_column_selector object at 0x00000275179D7350&gt;)])</pre></div></div></div><div class=\"sk-parallel\"><div class=\"sk-parallel-item\"><div class=\"sk-item\"><div class=\"sk-label-container\"><div class=\"sk-label sk-toggleable\"><input class=\"sk-toggleable__control sk-hidden--visually\" id=\"sk-estimator-id-3\" type=\"checkbox\" ><label for=\"sk-estimator-id-3\" class=\"sk-toggleable__label sk-toggleable__label-arrow\">pipeline-1</label><div class=\"sk-toggleable__content\"><pre>&lt;sklearn.compose._column_transformer.make_column_selector object at 0x0000027519000800&gt;</pre></div></div></div><div class=\"sk-serial\"><div class=\"sk-item\"><div class=\"sk-serial\"><div class=\"sk-item\"><div class=\"sk-estimator sk-toggleable\"><input class=\"sk-toggleable__control sk-hidden--visually\" id=\"sk-estimator-id-4\" type=\"checkbox\" ><label for=\"sk-estimator-id-4\" class=\"sk-toggleable__label sk-toggleable__label-arrow\">StandardScaler</label><div class=\"sk-toggleable__content\"><pre>StandardScaler()</pre></div></div></div></div></div></div></div></div><div class=\"sk-parallel-item\"><div class=\"sk-item\"><div class=\"sk-label-container\"><div class=\"sk-label sk-toggleable\"><input class=\"sk-toggleable__control sk-hidden--visually\" id=\"sk-estimator-id-5\" type=\"checkbox\" ><label for=\"sk-estimator-id-5\" class=\"sk-toggleable__label sk-toggleable__label-arrow\">pipeline-2</label><div class=\"sk-toggleable__content\"><pre>&lt;sklearn.compose._column_transformer.make_column_selector object at 0x00000275179D7350&gt;</pre></div></div></div><div class=\"sk-serial\"><div class=\"sk-item\"><div class=\"sk-serial\"><div class=\"sk-item\"><div class=\"sk-estimator sk-toggleable\"><input class=\"sk-toggleable__control sk-hidden--visually\" id=\"sk-estimator-id-6\" type=\"checkbox\" ><label for=\"sk-estimator-id-6\" class=\"sk-toggleable__label sk-toggleable__label-arrow\">OneHotEncoder</label><div class=\"sk-toggleable__content\"><pre>OneHotEncoder(handle_unknown=&#x27;ignore&#x27;)</pre></div></div></div></div></div></div></div></div></div></div><div class=\"sk-item\"><div class=\"sk-estimator sk-toggleable\"><input class=\"sk-toggleable__control sk-hidden--visually\" id=\"sk-estimator-id-7\" type=\"checkbox\" ><label for=\"sk-estimator-id-7\" class=\"sk-toggleable__label sk-toggleable__label-arrow\">LinearRegression</label><div class=\"sk-toggleable__content\"><pre>LinearRegression()</pre></div></div></div></div></div></div></div>"
      ],
      "text/plain": [
       "Pipeline(steps=[('columntransformer',\n",
       "                 ColumnTransformer(transformers=[('pipeline-1',\n",
       "                                                  Pipeline(steps=[('standardscaler',\n",
       "                                                                   StandardScaler())]),\n",
       "                                                  <sklearn.compose._column_transformer.make_column_selector object at 0x0000027519000800>),\n",
       "                                                 ('pipeline-2',\n",
       "                                                  Pipeline(steps=[('onehotencoder',\n",
       "                                                                   OneHotEncoder(handle_unknown='ignore'))]),\n",
       "                                                  <sklearn.compose._column_transformer.make_column_selector object at 0x00000275179D7350>)])),\n",
       "                ('linearregression', LinearRegression())])"
      ]
     },
     "execution_count": 11,
     "metadata": {},
     "output_type": "execute_result"
    }
   ],
   "source": [
    "lin_reg = make_pipeline(preprocessing, LinearRegression())\n",
    "lin_reg.fit(X_train, y_train)"
   ]
  },
  {
   "cell_type": "code",
   "execution_count": null,
   "metadata": {},
   "outputs": [],
   "source": [
    "df_predictions = lin_reg.predict(X_test)"
   ]
  },
  {
   "cell_type": "code",
   "execution_count": null,
   "metadata": {},
   "outputs": [
    {
     "data": {
      "text/plain": [
       "array([13900., 39800., 28300., 35100., 85900.])"
      ]
     },
     "metadata": {},
     "output_type": "display_data"
    }
   ],
   "source": [
    "# exploring predictions of Linear Regression\n",
    "np.exp(df_predictions[:5]).round(-2)"
   ]
  },
  {
   "cell_type": "code",
   "execution_count": null,
   "metadata": {},
   "outputs": [
    {
     "name": "stdout",
     "output_type": "stream",
     "text": [
      "13599.039893632977 0.726817458279859\n"
     ]
    }
   ],
   "source": [
    "# Calculating MSE on original values\n",
    "lin_rmse = mean_squared_error(y_true=np.exp(y_test), y_pred=np.exp(df_predictions), squared=False)\n",
    "lin_r2 = r2_score(y_true=np.exp(y_test), y_pred=np.exp(df_predictions))\n",
    "print(lin_rmse, lin_r2)"
   ]
  },
  {
   "cell_type": "markdown",
   "metadata": {},
   "source": [
    "the predictions are off by an average of ~$13,599 for the linear regression model. That's an accuracy of 72%. Let's attempt other regression models."
   ]
  },
  {
   "cell_type": "code",
   "execution_count": 22,
   "metadata": {},
   "outputs": [
    {
     "name": "stdout",
     "output_type": "stream",
     "text": [
      "Random Forest model results: \n",
      " RMSE: 11055.545906606756 \n",
      " Accuracy:0.8194502753866046 \n",
      "==============================\n",
      "\n",
      "Decision Tree model results: \n",
      " RMSE: 12320.153945970858 \n",
      " Accuracy:0.7757829083616207 \n",
      "==============================\n",
      "\n",
      "Ada Boost model results: \n",
      " RMSE: 16627.436434613865 \n",
      " Accuracy:0.591598772930302 \n",
      "==============================\n",
      "\n",
      "Gradient Boost model results: \n",
      " RMSE: 13293.438526639078 \n",
      " Accuracy:0.7389575667516793 \n",
      "==============================\n",
      "\n",
      "XG Boost model results: \n",
      " RMSE: 10610.31166466812 \n",
      " Accuracy:0.8336998167771368 \n",
      "==============================\n",
      "\n"
     ]
    },
    {
     "data": {
      "text/plain": [
       "['Australian_Vehicle_Prices_final_model.pkl']"
      ]
     },
     "execution_count": 22,
     "metadata": {},
     "output_type": "execute_result"
    }
   ],
   "source": [
    "models = {\n",
    "    'Random Forest': RandomForestRegressor(),\n",
    "    'Decision Tree': DecisionTreeRegressor(),\n",
    "    'Ada Boost': AdaBoostRegressor(),\n",
    "    'Gradient Boost': GradientBoostingRegressor(),\n",
    "    'XG Boost': xb.XGBRegressor()\n",
    "}\n",
    "\n",
    "r2_best = 0\n",
    "for name, model in models.items():\n",
    "    model_pipeline = make_pipeline(preprocessing, model)\n",
    "    model_pipeline.fit(X_train, y_train)\n",
    "    df_predictions = model_pipeline.predict(X_test)\n",
    "    \n",
    "    rmse = mean_squared_error(y_true=np.exp(y_test), y_pred=np.exp(df_predictions), squared=False)\n",
    "    r2 = r2_score(y_true=np.exp(y_test), y_pred=np.exp(df_predictions))\n",
    "    \n",
    "    if r2 > r2_best:\n",
    "        final_model = model_pipeline\n",
    "    \n",
    "    print(f\"{name} model results:\", '\\n', f'RMSE: {rmse}', '\\n', f'Accuracy:{r2}', \"\\n\" + \"=\" * 30 + \"\\n\")\n",
    "    \n",
    "joblib.dump(final_model, 'Australian_Vehicle_Prices_final_model.pkl')"
   ]
  },
  {
   "cell_type": "markdown",
   "metadata": {},
   "source": [
    "The best model is XGBoost, with an accuracy of 83%. Possible improvements include (from better to worse):\n",
    "+ Including the ['Title'] column, and extracting the trim out of the column for each model.\n",
    "+ Gathering additional data from other datasets.\n",
    "+ Fine-tuning the model using cross-validation and grid-search."
   ]
  },
  {
   "cell_type": "markdown",
   "metadata": {},
   "source": [
    "# Modules"
   ]
  },
  {
   "cell_type": "code",
   "execution_count": 9,
   "metadata": {},
   "outputs": [],
   "source": [
    "os.environ['MLFLOW_TRACKING_URI']='https://dagshub.com/dahshury/Australian-Vehicle-Price-Prediction.mlflow'\n",
    "os.environ['MLFLOW_TRACKING_USERNAME']='dahshury'\n",
    "os.environ['MLFLOW_TRACKING_PASSWORD']='e111d6af616a4951bc8463aef26461528e98b335'"
   ]
  },
  {
   "cell_type": "code",
   "execution_count": 10,
   "metadata": {},
   "outputs": [],
   "source": [
    "# Update entity\n",
    "@dataclass(frozen=True)\n",
    "class ModelTrainerConfig:\n",
    "    root_dir: Path\n",
    "    model_name: str\n",
    "    target_column: str\n",
    "    metrics_file_name: Path\n",
    "    eval_root_dir: Path"
   ]
  },
  {
   "cell_type": "code",
   "execution_count": 11,
   "metadata": {},
   "outputs": [],
   "source": [
    "# Update config manager\n",
    "class ConfigurationManager:\n",
    "    def __init__(self,\n",
    "                    config=CONFIG_FILE_PATH,\n",
    "                    params=PARAMS_FILE_PATH,\n",
    "                    schema=SCHEMA_FILE_PATH):\n",
    "        \n",
    "        self.config= read_yaml(config)\n",
    "        self.params= read_yaml(params)\n",
    "        self.schema= read_yaml(schema)\n",
    "        \n",
    "        create_dirs(self.config.artifacts_root)\n",
    "    \n",
    "    def get_model_trainer_config(self) -> ModelTrainerConfig:\n",
    "        model_trainer_config = ModelTrainerConfig(\n",
    "            root_dir= self.config.model_trainer.root_dir,\n",
    "            model_name= self.config.model_trainer.model_name,\n",
    "            metrics_file_name=self.config.model_trainer.metrics_file_name,\n",
    "            target_column=self.schema.TARGET_COLUMN.name,\n",
    "            eval_root_dir= self.config.model_evaluation.root_dir\n",
    "        )\n",
    "        \n",
    "        return model_trainer_config"
   ]
  },
  {
   "cell_type": "code",
   "execution_count": 12,
   "metadata": {},
   "outputs": [
    {
     "name": "stdout",
     "output_type": "stream",
     "text": [
      "[2023-12-26 14:49:00,876]: INFO: common: .yaml from config\\config.yaml has been loaded.\n",
      "[2023-12-26 14:49:00,878]: INFO: common: .yaml from params.yaml has been loaded.\n",
      "[2023-12-26 14:49:00,880]: INFO: common: .yaml from schema.yaml has been loaded.\n"
     ]
    }
   ],
   "source": [
    "transformation_obj = DataTransformationTrainingPipeline().main()"
   ]
  },
  {
   "cell_type": "code",
   "execution_count": 13,
   "metadata": {},
   "outputs": [],
   "source": [
    "# Update component\n",
    "class ModelTrainer:\n",
    "    def __init__(self, config: ModelTrainerConfig, transformations: DataTransformation):\n",
    "        self.config = config\n",
    "        self.transformations= transformations\n",
    "        self.scores = {}  # Initialize an empty dictionary to store scores\n",
    "        self.models = {\n",
    "            'Random Forest': RandomForestRegressor(),\n",
    "            'Decision Tree': DecisionTreeRegressor(),\n",
    "            'Ada Boost': AdaBoostRegressor(),\n",
    "            'Gradient Boost': GradientBoostingRegressor(),\n",
    "            'XG Boost': xb.XGBRegressor()\n",
    "        }\n",
    "        create_dirs([self.config.root_dir, self.config.eval_root_dir])\n",
    "        self.model_pipeline= None\n",
    "\n",
    "    def train_model(self, eval: bool = False):\n",
    "        X_train, y_train, X_test, y_test, log_pipeline_, preprocessing = self.transformations\n",
    "\n",
    "        r2_best = 0\n",
    "        for name, model in self.models.items():\n",
    "            model_pipeline = make_pipeline(preprocessing, model)\n",
    "            model_pipeline.fit(X_train, y_train)\n",
    "            df_predictions = model_pipeline.predict(X_test)\n",
    "            \n",
    "            rmse = mean_squared_error(y_true=np.exp(y_test), y_pred=np.exp(df_predictions), squared=False)\n",
    "            r2 = r2_score(y_true=np.exp(y_test), y_pred=np.exp(df_predictions))\n",
    "            mae= mean_absolute_error(y_true=np.exp(y_test), y_pred=np.exp(df_predictions))\n",
    "            \n",
    "            if r2 > r2_best:\n",
    "                final_model = model_pipeline\n",
    "            \n",
    "            self.model_pipeline = model_pipeline\n",
    "            \n",
    "            # Store scores in the dictionary and construct the metrics json\n",
    "            self.scores[name] = {'RMSE': rmse, 'Accuracy': r2, 'MAE': mae}\n",
    "            save_json(save_path=Path(os.path.join(self.config.eval_root_dir, name + \" \" + self.config.metrics_file_name)), data=self.scores)\n",
    "            \n",
    "            custom_logger.info(f\"{name} model results: \\nRMSE: {rmse} \\nAccuracy: {r2} \\nMAE: {mae}\\n{'=' * 30}\")\n",
    "            \n",
    "            joblib.dump(model_pipeline, os.path.join(self.config.root_dir, name +\" \" + self.config.model_name))\n",
    "            \n",
    "            if eval:\n",
    "        \n",
    "                mlflow.set_registry_uri(\"https://dagshub.com/dahshury/Australian-Vehicle-Price-Prediction.mlflow\")\n",
    "                tracking_url_type_store = urlparse(mlflow.get_tracking_uri()).scheme\n",
    "                \n",
    "                with mlflow.start_run():\n",
    "                    \n",
    "                    \n",
    "                    for name in self.models.keys():\n",
    "                        # Unpack scores into individual variables\n",
    "                        rmse = self.scores[name]['RMSE']\n",
    "                        accuracy = self.scores[name]['Accuracy']\n",
    "                        mae = self.scores[name]['MAE']\n",
    "                        \n",
    "                        mlflow.log_metric('RMSE', rmse)\n",
    "                        mlflow.log_metric('Accuracy', accuracy)\n",
    "                        mlflow.log_metric('MAE', mae)\n",
    "                        \n",
    "                        # Model registry does not work with file store\n",
    "                        if tracking_url_type_store != \"file\":\n",
    "\n",
    "                            # Register the model\n",
    "                            # There are other ways to use the Model Registry, which depends on the use case,\n",
    "                            # please refer to the doc for more information:\n",
    "                            # https://mlflow.org/docs/latest/model-registry.html#api-workflow\n",
    "                            mlflow.sklearn.log_model(self.model_pipeline, \"model\", registered_model_name=f\"{name}\")\n",
    "                        else:\n",
    "                            mlflow.sklearn.log_model(self.model_pipeline, f\"{name}\")"
   ]
  },
  {
   "cell_type": "code",
   "execution_count": 45,
   "metadata": {},
   "outputs": [
    {
     "name": "stdout",
     "output_type": "stream",
     "text": [
      "[2023-12-26 13:59:08,524]: INFO: common: .yaml from config\\config.yaml has been loaded.\n",
      "[2023-12-26 13:59:08,525]: INFO: common: .yaml from params.yaml has been loaded.\n",
      "[2023-12-26 13:59:08,527]: INFO: common: .yaml from schema.yaml has been loaded.\n",
      "[2023-12-26 13:59:54,045]: INFO: common: .json file saved at artifacts\\model_evaluation\\Random Forestmetrics.json\n",
      "[2023-12-26 13:59:54,046]: INFO: 2331206457: Random Forest model results: \n",
      "RMSE: 11068.085579307288 \n",
      "Accuracy: 0.8190404686788613 \n",
      "MAE: 4467.930219753342\n",
      "==============================\n",
      "[2023-12-26 13:59:54,761]: INFO: common: .json file saved at artifacts\\model_evaluation\\Decision Treemetrics.json\n",
      "[2023-12-26 13:59:54,761]: INFO: 2331206457: Decision Tree model results: \n",
      "RMSE: 12216.803865249292 \n",
      "Accuracy: 0.7795289101654655 \n",
      "MAE: 5449.793558541856\n",
      "==============================\n",
      "[2023-12-26 13:59:55,672]: INFO: common: .json file saved at artifacts\\model_evaluation\\Ada Boostmetrics.json\n",
      "[2023-12-26 13:59:55,673]: INFO: 2331206457: Ada Boost model results: \n",
      "RMSE: 16571.638304420507 \n",
      "Accuracy: 0.5943351886192969 \n",
      "MAE: 8670.309521301037\n",
      "==============================\n",
      "[2023-12-26 13:59:57,409]: INFO: common: .json file saved at artifacts\\model_evaluation\\Gradient Boostmetrics.json\n",
      "[2023-12-26 13:59:57,409]: INFO: 2331206457: Gradient Boost model results: \n",
      "RMSE: 13293.50289777539 \n",
      "Accuracy: 0.7389550386414835 \n",
      "MAE: 5977.238496135553\n",
      "==============================\n",
      "[2023-12-26 13:59:57,582]: INFO: common: .json file saved at artifacts\\model_evaluation\\XG Boostmetrics.json\n",
      "[2023-12-26 13:59:57,583]: INFO: 2331206457: XG Boost model results: \n",
      "RMSE: 10610.31166466812 \n",
      "Accuracy: 0.8336998167771368 \n",
      "MAE: 4666.72592585172\n",
      "==============================\n"
     ]
    },
    {
     "name": "stderr",
     "output_type": "stream",
     "text": [
      "Registered model 'Random Forest' already exists. Creating a new version of this model...\n",
      "2023/12/26 14:00:03 INFO mlflow.tracking._model_registry.client: Waiting up to 300 seconds for model version to finish creation.                     Model name: Random Forest, version 4\n",
      "Created version '4' of model 'Random Forest'.\n",
      "Successfully registered model 'Decision Tree'.\n",
      "2023/12/26 14:00:09 INFO mlflow.tracking._model_registry.client: Waiting up to 300 seconds for model version to finish creation.                     Model name: Decision Tree, version 1\n",
      "Created version '1' of model 'Decision Tree'.\n",
      "Successfully registered model 'Ada Boost'.\n",
      "2023/12/26 14:00:14 INFO mlflow.tracking._model_registry.client: Waiting up to 300 seconds for model version to finish creation.                     Model name: Ada Boost, version 1\n",
      "Created version '1' of model 'Ada Boost'.\n",
      "Successfully registered model 'Gradient Boost'.\n",
      "2023/12/26 14:00:20 INFO mlflow.tracking._model_registry.client: Waiting up to 300 seconds for model version to finish creation.                     Model name: Gradient Boost, version 1\n",
      "Created version '1' of model 'Gradient Boost'.\n",
      "Successfully registered model 'XG Boost'.\n",
      "2023/12/26 14:00:25 INFO mlflow.tracking._model_registry.client: Waiting up to 300 seconds for model version to finish creation.                     Model name: XG Boost, version 1\n",
      "Created version '1' of model 'XG Boost'.\n"
     ]
    }
   ],
   "source": [
    "# Update pipeline\n",
    "try:\n",
    "    config= ConfigurationManager()\n",
    "    data_training_config= config.get_model_trainer_config()\n",
    "    trainer=ModelTrainer(data_training_config, transformation_obj)\n",
    "    scores= trainer.train_model(eval=True)\n",
    "except Exception as e:\n",
    "    raise e"
   ]
  }
 ],
 "metadata": {
  "kernelspec": {
   "display_name": "auscar",
   "language": "python",
   "name": "python3"
  },
  "language_info": {
   "codemirror_mode": {
    "name": "ipython",
    "version": 3
   },
   "file_extension": ".py",
   "mimetype": "text/x-python",
   "name": "python",
   "nbconvert_exporter": "python",
   "pygments_lexer": "ipython3",
   "version": "3.10.13"
  }
 },
 "nbformat": 4,
 "nbformat_minor": 2
}
